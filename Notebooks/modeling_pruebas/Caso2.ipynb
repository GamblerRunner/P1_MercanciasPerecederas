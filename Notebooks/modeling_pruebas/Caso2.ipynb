{
 "cells": [
  {
   "cell_type": "code",
   "execution_count": 119,
   "metadata": {},
   "outputs": [],
   "source": [
    "import pandas as pd\n",
    "from pulp import *"
   ]
  },
  {
   "cell_type": "code",
   "execution_count": 120,
   "metadata": {},
   "outputs": [],
   "source": [
    "df_distance = pd.read_excel('../../Datos_P1/df_distance_km.xlsx')\n",
    "df_location = pd.read_excel('../../Datos_P1/df_location.xlsx')\n",
    "df_orders = pd.read_excel('../../Datos_P1/df_orders.xlsx')\n",
    "df_vehicle = pd.read_excel('../../Datos_P1/df_vehicle.xlsx')\n",
    "\n",
    "df_distance.index = df_distance.columns"
   ]
  },
  {
   "cell_type": "code",
   "execution_count": 121,
   "metadata": {},
   "outputs": [],
   "source": [
    "df_vehiculos_aleatorios = df_vehicle.sample(n=4, random_state=420) #Elección aleatoria de 3 vehiculos del dataframe, con un random_state para que sea más consistente\n",
    "#df_vehiculos_aleatorios.reset_index(drop=True ,inplace=True) #Resetear el index del nuevo dataframe para que tenga los numeros 0, 1 y 2\n",
    "df_vehicle = df_vehiculos_aleatorios\n",
    "\n",
    "# con 3 falla :("
   ]
  },
  {
   "cell_type": "markdown",
   "metadata": {},
   "source": [
    "Esto te elige 3 vehiculos aleatorios del dataframe de vehiculos, lo he dejado con un random_state para que sea consistente, aunque deberiamos probarlo sin ello más adelante"
   ]
  },
  {
   "cell_type": "code",
   "execution_count": 122,
   "metadata": {},
   "outputs": [],
   "source": [
    "# Preparación datos para PuLP\n",
    "capacidades = dict(zip(df_vehicle[\"vehiculo_id\"], df_vehicle[\"capacidad_kg\"]))\n",
    "costos = dict(zip(df_vehicle[\"vehiculo_id\"], df_vehicle[\"costo_km\"]))\n",
    "autonomias = dict(zip(df_vehicle[\"vehiculo_id\"], df_vehicle[\"autonomia_km\"]))\n",
    "\n",
    "pedidos = dict(zip(df_orders[\"cliente\"], df_orders[\"order_demand\"]))\n",
    "pedidos[\"Almacén\"] = 0  # Aseguramos que el almacén no tenga demanda\n",
    "\n",
    "distancias = df_distance.stack().to_dict()  # Convierte a un diccionario (i, j): distancia\n",
    "\n",
    "clientes = df_orders[\"cliente\"].tolist() + [\"Almacén\"]  # Incluir el almacén como un cliente especial\n",
    "vehiculos = df_vehicle[\"vehiculo_id\"].tolist()"
   ]
  },
  {
   "cell_type": "code",
   "execution_count": 123,
   "metadata": {},
   "outputs": [
    {
     "data": {
      "text/plain": [
       "1"
      ]
     },
     "execution_count": 123,
     "metadata": {},
     "output_type": "execute_result"
    }
   ],
   "source": [
    "# Definir el problema de optimización\n",
    "problem = LpProblem(\"Ruteo_de_Vehiculos\", LpMinimize)\n",
    "\n",
    "# Listas de clientes y vehículos\n",
    "clientes = df_orders[\"cliente\"].tolist()\n",
    "vehiculos = df_vehicle[\"vehiculo_id\"].tolist()\n",
    "almacen = \"Almacén\"\n",
    "\n",
    "# Crear variables de decisión\n",
    "x = {(v, i, j): LpVariable(f\"x_{v}_{i}_{j}\", cat=\"Binary\") \n",
    "     for v in vehiculos for i in [almacen] + clientes for j in clientes + [almacen] if i != j and df_distance.at[i, j] > 0}\n",
    "\n",
    "y = {(v, i): LpVariable(f\"y_{v}_{i}\", cat=\"Binary\") \n",
    "     for v in vehiculos for i in clientes}\n",
    "\n",
    "# Variables auxiliares para evitar subciclos\n",
    "u = {i: LpVariable(f\"u_{i}\", lowBound=0, upBound=len(clientes), cat=\"Continuous\") for i in clientes}\n",
    "\n",
    "# Función objetivo: minimizar costo total del recorrido\n",
    "problem += lpSum(x[v, i, j] * df_distance.at[i, j] * df_vehicle[df_vehicle[\"vehiculo_id\"] == v][\"costo_km\"].values[0] \n",
    "                 for v in vehiculos for i in [almacen] + clientes for j in clientes + [almacen] if i != j and df_distance.at[i, j] > 0)\n",
    "\n",
    "# Restricción: Cada cliente debe ser visitado exactamente una vez\n",
    "for i in clientes:\n",
    "    problem += lpSum(y[v, i] for v in vehiculos) == 1\n",
    "\n",
    "# Restricción: Capacidad del vehículo\n",
    "for v in vehiculos:\n",
    "    problem += lpSum(y[v, i] * df_orders[df_orders[\"cliente\"] == i][\"order_demand\"].values[0] \n",
    "                     for i in clientes) <= df_vehicle[df_vehicle[\"vehiculo_id\"] == v][\"capacidad_kg\"].values[0]\n",
    "\n",
    "# Restricción: Autonomía del vehículo\n",
    "for v in vehiculos:\n",
    "    problem += lpSum(x[v, i, j] * df_distance.at[i, j] \n",
    "                     for i in [almacen] + clientes for j in clientes + [almacen] if i != j and df_distance.at[i, j] > 0) <= df_vehicle[df_vehicle[\"vehiculo_id\"] == v][\"autonomia_km\"].values[0]\n",
    "\n",
    "# Restricción: Salida y llegada desde el almacén\n",
    "for v in vehiculos:\n",
    "    problem += lpSum(x[v, almacen, j] for j in clientes if df_distance.at[almacen, j] > 0) == 1\n",
    "    problem += lpSum(x[v, i, almacen] for i in clientes if df_distance.at[i, almacen] > 0) == 1\n",
    "\n",
    "# Restricción: Si un vehículo visita un cliente, debe salir de él\n",
    "for v in vehiculos:\n",
    "    for i in clientes:\n",
    "        problem += lpSum(x[v, i, j] for j in clientes + [almacen] if i != j and df_distance.at[i, j] > 0) == y[v, i]\n",
    "        problem += lpSum(x[v, j, i] for j in [almacen] + clientes if i != j and df_distance.at[j, i] > 0) == y[v, i]\n",
    "\n",
    "# Restricción para evitar subciclos\n",
    "for i in clientes:\n",
    "    for j in clientes:\n",
    "        if i != j and df_distance.at[i, j] > 0:\n",
    "            problem += u[i] - u[j] + (len(clientes) * lpSum(x[v, i, j] for v in vehiculos)) <= len(clientes) - 1\n",
    "\n",
    "# Resolver el problema con un límite de tiempo\n",
    "problem.solve(PULP_CBC_CMD(timeLimit=60))"
   ]
  },
  {
   "cell_type": "markdown",
   "metadata": {},
   "source": [
    "# Restricción: Un vehículo debe volver al almacén antes de sobrepasar su capacidad\n",
    "for v in vehiculos:\n",
    "    for i in clientes:\n",
    "        problem += lpSum(x[v, i, j] for j in clientes + [almacen] if (v, i, j) in x) - lpSum(x[v, almacen, j] for j in clientes if (v, almacen, j) in x) <= 0"
   ]
  },
  {
   "cell_type": "code",
   "execution_count": 124,
   "metadata": {},
   "outputs": [
    {
     "name": "stdout",
     "output_type": "stream",
     "text": [
      "\n",
      "Resumen de rutas:\n",
      "========================================\n",
      "\n",
      "🚛 Vehículo 5:\n",
      "   - 🚛 Reabastecimiento en Almacén\n",
      "   - De Almacén a Cliente_9: 1.0494 km, Costo: $0.34\n",
      "   - De Cliente_1 a Cliente_6: 1.7407 km, Costo: $0.56\n",
      "   - De Cliente_2 a Cliente_3: 3.3838 km, Costo: $1.08\n",
      "   - De Cliente_3 a Cliente_19: 7.7574 km, Costo: $2.48\n",
      "   - De Cliente_4 a Cliente_1: 1.1998 km, Costo: $0.38\n",
      "   - De Cliente_6 a Almacén: 2.6952 km, Costo: $0.86\n",
      "   - De Cliente_7 a Cliente_16: 7.219399999999999 km, Costo: $2.31\n",
      "   - De Cliente_9 a Cliente_13: 7.722899999999999 km, Costo: $2.47\n",
      "   - De Cliente_13 a Cliente_2: 2.6961 km, Costo: $0.86\n",
      "   - De Cliente_16 a Cliente_4: 1.3127 km, Costo: $0.42\n",
      "   - De Cliente_19 a Cliente_7: 9.828899999999999 km, Costo: $3.15\n",
      "   🔹 Peso total transportado en este viaje: 9268 kg / Capacidad: 10000 kg\n",
      "   🔹 Costo total del vehículo: $14.91\n",
      "\n",
      "🚛 Vehículo 6:\n",
      "   - 🚛 Reabastecimiento en Almacén\n",
      "   - De Almacén a Cliente_10: 5.9516 km, Costo: $0.83\n",
      "   - De Cliente_10 a Cliente_12: 2.3061 km, Costo: $0.32\n",
      "   - De Cliente_12 a Cliente_20: 22.5962 km, Costo: $3.16\n",
      "   - De Cliente_20 a Almacén: 14.8282 km, Costo: $2.08\n",
      "   🔹 Peso total transportado en este viaje: 2819 kg / Capacidad: 3129 kg\n",
      "   🔹 Costo total del vehículo: $6.40\n",
      "\n",
      "🚛 Vehículo 4:\n",
      "   - 🚛 Reabastecimiento en Almacén\n",
      "   - De Almacén a Cliente_11: 2.912 km, Costo: $0.55\n",
      "   - De Cliente_11 a Cliente_14: 1.6099 km, Costo: $0.31\n",
      "   - De Cliente_14 a Almacén: 4.0306 km, Costo: $0.77\n",
      "   🔹 Peso total transportado en este viaje: 1874 kg / Capacidad: 3321 kg\n",
      "   🔹 Costo total del vehículo: $1.62\n",
      "\n",
      "🚛 Vehículo 3:\n",
      "   - 🚛 Reabastecimiento en Almacén\n",
      "   - De Almacén a Cliente_17: 8.5221 km, Costo: $1.70\n",
      "   - De Cliente_5 a Cliente_15: 12.0019 km, Costo: $2.40\n",
      "   - De Cliente_8 a Cliente_18: 8.9984 km, Costo: $1.80\n",
      "   - De Cliente_15 a Cliente_8: 5.9742 km, Costo: $1.19\n",
      "   - De Cliente_17 a Cliente_5: 5.287199999999999 km, Costo: $1.06\n",
      "   - De Cliente_18 a Almacén: 13.2923 km, Costo: $2.66\n",
      "   🔹 Peso total transportado en este viaje: 4777 kg / Capacidad: 4881 kg\n",
      "   🔹 Costo total del vehículo: $10.82\n",
      "\n",
      "💰 Costo total de todas las rutas: $33.75\n"
     ]
    }
   ],
   "source": [
    "# Calcular costos, peso total y capacidad utilizada\n",
    "costo_total = 0\n",
    "print(\"\\nResumen de rutas:\\n\" + \"=\"*40)\n",
    "for v in vehiculos:\n",
    "    costo_vehiculo = 0\n",
    "    peso_actual = 0\n",
    "    print(f\"\\n🚛 Vehículo {v}:\")\n",
    "    for i in [almacen] + clientes:\n",
    "        for j in clientes + [almacen]:\n",
    "            if (v, i, j) in x and x[v, i, j].varValue == 1:\n",
    "                distancia = df_distance.at[i, j]\n",
    "                costo_km = df_vehicle[df_vehicle[\"vehiculo_id\"] == v][\"costo_km\"].values[0]\n",
    "                costo_vehiculo += distancia * costo_km\n",
    "                if i == almacen:\n",
    "                    print(f\"   - 🚛 Reabastecimiento en {almacen}\")\n",
    "                    peso_actual = 0  # Reiniciar el peso al recargar\n",
    "                else:\n",
    "                    pedido_cliente = df_orders[df_orders[\"cliente\"] == i][\"order_demand\"].values[0]\n",
    "                    if peso_actual + pedido_cliente > df_vehicle[df_vehicle[\"vehiculo_id\"] == v][\"capacidad_kg\"].values[0]:\n",
    "                        print(f\"   - 🚛 Reabastecimiento en {almacen} antes de ir a {i}\")\n",
    "                        peso_actual = 0  # Reiniciar el peso\n",
    "                    peso_actual += pedido_cliente\n",
    "                print(f\"   - De {i} a {j}: {distancia} km, Costo: ${distancia * costo_km:.2f}\")\n",
    "    capacidad = df_vehicle[df_vehicle[\"vehiculo_id\"] == v][\"capacidad_kg\"].values[0]\n",
    "    print(f\"   🔹 Peso total transportado en este viaje: {peso_actual} kg / Capacidad: {capacidad} kg\")\n",
    "    print(f\"   🔹 Costo total del vehículo: ${costo_vehiculo:.2f}\")\n",
    "    costo_total += costo_vehiculo\n",
    "\n",
    "print(\"\\n💰 Costo total de todas las rutas: ${:.2f}\".format(costo_total))\n"
   ]
  }
 ],
 "metadata": {
  "kernelspec": {
   "display_name": "Python 3",
   "language": "python",
   "name": "python3"
  },
  "language_info": {
   "codemirror_mode": {
    "name": "ipython",
    "version": 3
   },
   "file_extension": ".py",
   "mimetype": "text/x-python",
   "name": "python",
   "nbconvert_exporter": "python",
   "pygments_lexer": "ipython3",
   "version": "3.13.1"
  }
 },
 "nbformat": 4,
 "nbformat_minor": 2
}
