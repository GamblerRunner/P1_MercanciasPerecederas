{
 "cells": [
  {
   "cell_type": "code",
   "execution_count": 10,
   "metadata": {},
   "outputs": [],
   "source": [
    "import pandas as pd\n",
    "from pulp import *"
   ]
  },
  {
   "cell_type": "code",
   "execution_count": 11,
   "metadata": {},
   "outputs": [],
   "source": [
    "df_distance = pd.read_excel('../../Datos_P1/df_distance_km.xlsx')\n",
    "df_location = pd.read_excel('../../Datos_P1/df_location.xlsx')\n",
    "df_orders = pd.read_excel('../../Datos_P1/df_orders.xlsx')\n",
    "df_vehicle = pd.read_excel('../../Datos_P1/df_vehicle.xlsx')\n",
    "\n",
    "df_distance.index = df_distance.columns"
   ]
  },
  {
   "cell_type": "code",
   "execution_count": 12,
   "metadata": {},
   "outputs": [
    {
     "data": {
      "text/html": [
       "<div>\n",
       "<style scoped>\n",
       "    .dataframe tbody tr th:only-of-type {\n",
       "        vertical-align: middle;\n",
       "    }\n",
       "\n",
       "    .dataframe tbody tr th {\n",
       "        vertical-align: top;\n",
       "    }\n",
       "\n",
       "    .dataframe thead th {\n",
       "        text-align: right;\n",
       "    }\n",
       "</style>\n",
       "<table border=\"1\" class=\"dataframe\">\n",
       "  <thead>\n",
       "    <tr style=\"text-align: right;\">\n",
       "      <th></th>\n",
       "      <th>vehiculo_id</th>\n",
       "      <th>capacidad_kg</th>\n",
       "      <th>costo_km</th>\n",
       "      <th>autonomia_km</th>\n",
       "    </tr>\n",
       "  </thead>\n",
       "  <tbody>\n",
       "    <tr>\n",
       "      <th>0</th>\n",
       "      <td>1</td>\n",
       "      <td>2026</td>\n",
       "      <td>0.20</td>\n",
       "      <td>603</td>\n",
       "    </tr>\n",
       "    <tr>\n",
       "      <th>1</th>\n",
       "      <td>2</td>\n",
       "      <td>4362</td>\n",
       "      <td>0.14</td>\n",
       "      <td>630</td>\n",
       "    </tr>\n",
       "    <tr>\n",
       "      <th>2</th>\n",
       "      <td>3</td>\n",
       "      <td>4881</td>\n",
       "      <td>0.20</td>\n",
       "      <td>664</td>\n",
       "    </tr>\n",
       "    <tr>\n",
       "      <th>3</th>\n",
       "      <td>4</td>\n",
       "      <td>3321</td>\n",
       "      <td>0.19</td>\n",
       "      <td>514</td>\n",
       "    </tr>\n",
       "    <tr>\n",
       "      <th>4</th>\n",
       "      <td>5</td>\n",
       "      <td>10000</td>\n",
       "      <td>0.32</td>\n",
       "      <td>350</td>\n",
       "    </tr>\n",
       "    <tr>\n",
       "      <th>5</th>\n",
       "      <td>6</td>\n",
       "      <td>3129</td>\n",
       "      <td>0.14</td>\n",
       "      <td>791</td>\n",
       "    </tr>\n",
       "  </tbody>\n",
       "</table>\n",
       "</div>"
      ],
      "text/plain": [
       "   vehiculo_id  capacidad_kg  costo_km  autonomia_km\n",
       "0            1          2026      0.20           603\n",
       "1            2          4362      0.14           630\n",
       "2            3          4881      0.20           664\n",
       "3            4          3321      0.19           514\n",
       "4            5         10000      0.32           350\n",
       "5            6          3129      0.14           791"
      ]
     },
     "execution_count": 12,
     "metadata": {},
     "output_type": "execute_result"
    }
   ],
   "source": [
    "df_vehicle"
   ]
  },
  {
   "cell_type": "code",
   "execution_count": 13,
   "metadata": {},
   "outputs": [
    {
     "data": {
      "text/html": [
       "<div>\n",
       "<style scoped>\n",
       "    .dataframe tbody tr th:only-of-type {\n",
       "        vertical-align: middle;\n",
       "    }\n",
       "\n",
       "    .dataframe tbody tr th {\n",
       "        vertical-align: top;\n",
       "    }\n",
       "\n",
       "    .dataframe thead th {\n",
       "        text-align: right;\n",
       "    }\n",
       "</style>\n",
       "<table border=\"1\" class=\"dataframe\">\n",
       "  <thead>\n",
       "    <tr style=\"text-align: right;\">\n",
       "      <th></th>\n",
       "      <th>vehiculo_id</th>\n",
       "      <th>capacidad_kg</th>\n",
       "      <th>costo_km</th>\n",
       "      <th>autonomia_km</th>\n",
       "    </tr>\n",
       "  </thead>\n",
       "  <tbody>\n",
       "    <tr>\n",
       "      <th>4</th>\n",
       "      <td>5</td>\n",
       "      <td>10000</td>\n",
       "      <td>0.32</td>\n",
       "      <td>350</td>\n",
       "    </tr>\n",
       "    <tr>\n",
       "      <th>2</th>\n",
       "      <td>3</td>\n",
       "      <td>4881</td>\n",
       "      <td>0.20</td>\n",
       "      <td>664</td>\n",
       "    </tr>\n",
       "    <tr>\n",
       "      <th>1</th>\n",
       "      <td>2</td>\n",
       "      <td>4362</td>\n",
       "      <td>0.14</td>\n",
       "      <td>630</td>\n",
       "    </tr>\n",
       "    <tr>\n",
       "      <th>3</th>\n",
       "      <td>4</td>\n",
       "      <td>3321</td>\n",
       "      <td>0.19</td>\n",
       "      <td>514</td>\n",
       "    </tr>\n",
       "    <tr>\n",
       "      <th>5</th>\n",
       "      <td>6</td>\n",
       "      <td>3129</td>\n",
       "      <td>0.14</td>\n",
       "      <td>791</td>\n",
       "    </tr>\n",
       "    <tr>\n",
       "      <th>0</th>\n",
       "      <td>1</td>\n",
       "      <td>2026</td>\n",
       "      <td>0.20</td>\n",
       "      <td>603</td>\n",
       "    </tr>\n",
       "  </tbody>\n",
       "</table>\n",
       "</div>"
      ],
      "text/plain": [
       "   vehiculo_id  capacidad_kg  costo_km  autonomia_km\n",
       "4            5         10000      0.32           350\n",
       "2            3          4881      0.20           664\n",
       "1            2          4362      0.14           630\n",
       "3            4          3321      0.19           514\n",
       "5            6          3129      0.14           791\n",
       "0            1          2026      0.20           603"
      ]
     },
     "execution_count": 13,
     "metadata": {},
     "output_type": "execute_result"
    }
   ],
   "source": [
    "df_vehicle.sort_values(by='capacidad_kg', ascending=False, inplace=True) #Ordenar los vehiculos por capacidad, de mayor a menor\n",
    "df_vehicle"
   ]
  },
  {
   "cell_type": "code",
   "execution_count": 14,
   "metadata": {},
   "outputs": [
    {
     "data": {
      "text/html": [
       "<div>\n",
       "<style scoped>\n",
       "    .dataframe tbody tr th:only-of-type {\n",
       "        vertical-align: middle;\n",
       "    }\n",
       "\n",
       "    .dataframe tbody tr th {\n",
       "        vertical-align: top;\n",
       "    }\n",
       "\n",
       "    .dataframe thead th {\n",
       "        text-align: right;\n",
       "    }\n",
       "</style>\n",
       "<table border=\"1\" class=\"dataframe\">\n",
       "  <thead>\n",
       "    <tr style=\"text-align: right;\">\n",
       "      <th></th>\n",
       "      <th>vehiculo_id</th>\n",
       "      <th>capacidad_kg</th>\n",
       "      <th>costo_km</th>\n",
       "      <th>autonomia_km</th>\n",
       "    </tr>\n",
       "  </thead>\n",
       "  <tbody>\n",
       "    <tr>\n",
       "      <th>0</th>\n",
       "      <td>5</td>\n",
       "      <td>10000</td>\n",
       "      <td>0.32</td>\n",
       "      <td>350</td>\n",
       "    </tr>\n",
       "  </tbody>\n",
       "</table>\n",
       "</div>"
      ],
      "text/plain": [
       "   vehiculo_id  capacidad_kg  costo_km  autonomia_km\n",
       "0            5         10000      0.32           350"
      ]
     },
     "execution_count": 14,
     "metadata": {},
     "output_type": "execute_result"
    }
   ],
   "source": [
    "df_unico_vehiculo = df_vehicle.iloc[[0]] #Hacer un dataFrame nuevo solo con el primer dato del otro dataframe (el vehiculo con más capacidad)\n",
    "df_unico_vehiculo.reset_index(drop=True, inplace=True) #Resetear el index del nuevo dataframe para que no tenga indice 4\n",
    "df_unico_vehiculo"
   ]
  },
  {
   "cell_type": "code",
   "execution_count": 15,
   "metadata": {},
   "outputs": [],
   "source": [
    "df_unico_vehiculo.at[0, 'vehiculo_id'] = 1 #Cambio del vehiculo_id para que sea más agradable trabajar con ello\n",
    "df_unico_vehiculo.at[0, 'costo_km'] = 0.1\n",
    "df_unico_vehiculo.at[0, 'autonomia_km'] = 1000\n",
    "df_unico_vehiculo.at[0, 'capacidad_kg'] = 30000\n",
    "df_vehicle = df_unico_vehiculo"
   ]
  },
  {
   "cell_type": "markdown",
   "metadata": {},
   "source": [
    "Haz los cambios que veas a la capacidad y demás datos, si no quieres que tenga el vehiculo_id de 1 quita lo de antes y ya\n"
   ]
  },
  {
   "cell_type": "code",
   "execution_count": 16,
   "metadata": {},
   "outputs": [],
   "source": [
    "# Preparación datos para PuLP\n",
    "capacidades = dict(zip(df_vehicle[\"vehiculo_id\"], df_vehicle[\"capacidad_kg\"]))\n",
    "costos = dict(zip(df_vehicle[\"vehiculo_id\"], df_vehicle[\"costo_km\"]))\n",
    "autonomias = dict(zip(df_vehicle[\"vehiculo_id\"], df_vehicle[\"autonomia_km\"]))\n",
    "\n",
    "pedidos = dict(zip(df_orders[\"cliente\"], df_orders[\"order_demand\"]))\n",
    "pedidos[\"Almacén\"] = 0  # Aseguramos que el almacén no tenga demanda\n",
    "\n",
    "distancias = df_distance.stack().to_dict()  # Convierte a un diccionario (i, j): distancia\n",
    "\n",
    "clientes = df_orders[\"cliente\"].tolist() + [\"Almacén\"]  # Incluir el almacén como un cliente especial\n",
    "vehiculos = df_vehicle[\"vehiculo_id\"].tolist()"
   ]
  },
  {
   "cell_type": "code",
   "execution_count": 17,
   "metadata": {},
   "outputs": [
    {
     "data": {
      "text/plain": [
       "1"
      ]
     },
     "execution_count": 17,
     "metadata": {},
     "output_type": "execute_result"
    }
   ],
   "source": [
    "# Definir el problema de optimización\n",
    "problem = LpProblem(\"Ruteo_de_Vehiculos_Caso4\", LpMinimize)\n",
    "\n",
    "# Listas de clientes y vehículos\n",
    "clientes = df_orders[\"cliente\"].tolist()\n",
    "vehiculos = df_vehicle[\"vehiculo_id\"].tolist()\n",
    "almacen = \"Almacén\"\n",
    "\n",
    "# Crear variables de decisión\n",
    "x = {(v, i, j): LpVariable(f\"x_{v}_{i}_{j}\", cat=\"Binary\") \n",
    "     for v in vehiculos for i in [almacen] + clientes for j in clientes + [almacen] if i != j and df_distance.at[i, j] > 0}\n",
    "\n",
    "y = {(v, i): LpVariable(f\"y_{v}_{i}\", cat=\"Binary\") \n",
    "     for v in vehiculos for i in clientes}\n",
    "\n",
    "# Variables auxiliares para evitar subciclos\n",
    "u = {i: LpVariable(f\"u_{i}\", lowBound=0, upBound=len(clientes), cat=\"Continuous\") for i in clientes}\n",
    "\n",
    "# Función objetivo: minimizar costo total del recorrido\n",
    "problem += lpSum(x[v, i, j] * df_distance.at[i, j] * df_vehicle[df_vehicle[\"vehiculo_id\"] == v][\"costo_km\"].values[0] \n",
    "                 for v in vehiculos for i in [almacen] + clientes for j in clientes + [almacen] if i != j and df_distance.at[i, j] > 0)\n",
    "\n",
    "# Restricción: Cada cliente debe ser visitado exactamente una vez\n",
    "for i in clientes:\n",
    "    problem += lpSum(y[v, i] for v in vehiculos) == 1\n",
    "\n",
    "# Restricción: Capacidad del vehículo\n",
    "for v in vehiculos:\n",
    "    problem += lpSum(y[v, i] * df_orders[df_orders[\"cliente\"] == i][\"order_demand\"].values[0] \n",
    "                     for i in clientes) <= df_vehicle[df_vehicle[\"vehiculo_id\"] == v][\"capacidad_kg\"].values[0]\n",
    "\n",
    "# Restricción: Autonomía del vehículo\n",
    "for v in vehiculos:\n",
    "    problem += lpSum(x[v, i, j] * df_distance.at[i, j] \n",
    "                     for i in [almacen] + clientes for j in clientes + [almacen] if i != j and df_distance.at[i, j] > 0) <= df_vehicle[df_vehicle[\"vehiculo_id\"] == v][\"autonomia_km\"].values[0]\n",
    "\n",
    "# Restricción: Salida y llegada desde el almacén\n",
    "for v in vehiculos:\n",
    "    problem += lpSum(x[v, almacen, j] for j in clientes if df_distance.at[almacen, j] > 0) == 1\n",
    "    problem += lpSum(x[v, i, almacen] for i in clientes if df_distance.at[i, almacen] > 0) == 1\n",
    "\n",
    "# Restricción: Si un vehículo visita un cliente, debe salir de él\n",
    "for v in vehiculos:\n",
    "    for i in clientes:\n",
    "        problem += lpSum(x[v, i, j] for j in clientes + [almacen] if i != j and df_distance.at[i, j] > 0) == y[v, i]\n",
    "        problem += lpSum(x[v, j, i] for j in [almacen] + clientes if i != j and df_distance.at[j, i] > 0) == y[v, i]\n",
    "\n",
    "# Restricción para evitar subciclos\n",
    "for i in clientes:\n",
    "    for j in clientes:\n",
    "        if i != j and df_distance.at[i, j] > 0:\n",
    "            problem += u[i] - u[j] + (len(clientes) * lpSum(x[v, i, j] for v in vehiculos)) <= len(clientes) - 1\n",
    "\n",
    "# Resolver el problema con un límite de tiempo\n",
    "problem.solve(PULP_CBC_CMD(timeLimit=60))"
   ]
  },
  {
   "cell_type": "code",
   "execution_count": 18,
   "metadata": {},
   "outputs": [
    {
     "name": "stdout",
     "output_type": "stream",
     "text": [
      "\n",
      "Resumen de rutas:\n",
      "========================================\n",
      "\n",
      "🚛 Vehículo 1:\n",
      "   - De Almacén a Cliente_20: 14.8282 km, Costo: $1.48\n",
      "   - De Cliente_1 a Cliente_16: 1.5775 km, Costo: $0.16\n",
      "   - De Cliente_2 a Cliente_13: 2.6961 km, Costo: $0.27\n",
      "   - De Cliente_3 a Cliente_19: 7.7574 km, Costo: $0.78\n",
      "   - De Cliente_4 a Cliente_6: 0.9118999999999999 km, Costo: $0.09\n",
      "   - De Cliente_5 a Cliente_11: 2.6253 km, Costo: $0.26\n",
      "   - De Cliente_6 a Cliente_9: 2.906 km, Costo: $0.29\n",
      "   - De Cliente_7 a Cliente_2: 0.4847 km, Costo: $0.05\n",
      "   - De Cliente_8 a Cliente_15: 5.9742 km, Costo: $0.60\n",
      "   - De Cliente_9 a Almacén: 1.0494 km, Costo: $0.10\n",
      "   - De Cliente_10 a Cliente_17: 10.8948 km, Costo: $1.09\n",
      "   - De Cliente_11 a Cliente_14: 1.6099 km, Costo: $0.16\n",
      "   - De Cliente_12 a Cliente_10: 2.3061 km, Costo: $0.23\n",
      "   - De Cliente_13 a Cliente_18: 6.286899999999999 km, Costo: $0.63\n",
      "   - De Cliente_14 a Cliente_1: 2.2133 km, Costo: $0.22\n",
      "   - De Cliente_15 a Cliente_12: 5.6418 km, Costo: $0.56\n",
      "   - De Cliente_16 a Cliente_4: 1.3127 km, Costo: $0.13\n",
      "   - De Cliente_17 a Cliente_5: 5.287199999999999 km, Costo: $0.53\n",
      "   - De Cliente_18 a Cliente_8: 8.9984 km, Costo: $0.90\n",
      "   - De Cliente_19 a Cliente_7: 9.828899999999999 km, Costo: $0.98\n",
      "   - De Cliente_20 a Cliente_3: 16.5997 km, Costo: $1.66\n",
      "   🔹 Peso total transportado: 18738 kg / Capacidad: 30000 kg\n",
      "   🔹 Costo total del vehículo: $11.18\n",
      "\n",
      "💰 Costo total de todas las rutas: $11.18\n"
     ]
    }
   ],
   "source": [
    "# Calcular costos, peso total y capacidad utilizada\n",
    "costo_total = 0\n",
    "print(\"\\nResumen de rutas:\\n\" + \"=\"*40)\n",
    "for v in vehiculos:\n",
    "    costo_vehiculo = 0\n",
    "    peso_total = 0\n",
    "    print(f\"\\n🚛 Vehículo {v}:\")\n",
    "    for i in [almacen] + clientes:\n",
    "        for j in clientes + [almacen]:\n",
    "            if i != j and df_distance.at[i, j] > 0 and x[v, i, j].varValue == 1:\n",
    "                distancia = df_distance.at[i, j]\n",
    "                costo_km = df_vehicle[df_vehicle[\"vehiculo_id\"] == v][\"costo_km\"].values[0]\n",
    "                costo_vehiculo += distancia * costo_km\n",
    "                if i != almacen:\n",
    "                    peso_total += df_orders[df_orders[\"cliente\"] == i][\"order_demand\"].values[0]\n",
    "                print(f\"   - De {i} a {j}: {distancia} km, Costo: ${distancia * costo_km:.2f}\")\n",
    "    capacidad = df_vehicle[df_vehicle[\"vehiculo_id\"] == v][\"capacidad_kg\"].values[0]\n",
    "    print(f\"   🔹 Peso total transportado: {peso_total} kg / Capacidad: {capacidad} kg\")\n",
    "    print(f\"   🔹 Costo total del vehículo: ${costo_vehiculo:.2f}\")\n",
    "    costo_total += costo_vehiculo\n",
    "\n",
    "print(\"\\n💰 Costo total de todas las rutas: ${:.2f}\".format(costo_total))"
   ]
  }
 ],
 "metadata": {
  "kernelspec": {
   "display_name": "Python 3",
   "language": "python",
   "name": "python3"
  },
  "language_info": {
   "codemirror_mode": {
    "name": "ipython",
    "version": 3
   },
   "file_extension": ".py",
   "mimetype": "text/x-python",
   "name": "python",
   "nbconvert_exporter": "python",
   "pygments_lexer": "ipython3",
   "version": "3.13.1"
  }
 },
 "nbformat": 4,
 "nbformat_minor": 2
}
