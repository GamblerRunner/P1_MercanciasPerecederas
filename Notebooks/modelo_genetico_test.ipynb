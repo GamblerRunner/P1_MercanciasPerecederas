{
 "cells": [
  {
   "cell_type": "code",
   "execution_count": 10,
   "metadata": {},
   "outputs": [],
   "source": [
    "import pandas as pd\n",
    "import random"
   ]
  },
  {
   "cell_type": "code",
   "execution_count": 24,
   "metadata": {},
   "outputs": [],
   "source": [
    "df_vehicles = pd.read_excel('../Datos_P1/df_vehicle.xlsx')\n",
    "df_distances_km = pd.read_excel('../Datos_P1/df_distance_km.xlsx')\n",
    "df_orders = pd.read_excel('../Datos_P1/df_orders.xlsx')\n",
    "\n",
    "df_location = pd.read_excel('../Datos_P1/df_location.xlsx')"
   ]
  },
  {
   "cell_type": "code",
   "execution_count": null,
   "metadata": {},
   "outputs": [
    {
     "name": "stdout",
     "output_type": "stream",
     "text": [
      "7.5625\n"
     ]
    }
   ],
   "source": [
    "# PRUEBAS TONTAS\n",
    "df_distances_km.index = df_distances_km.columns\n",
    "\n",
    "distance = df_distances_km.at[\"Cliente_1\", \"Cliente_2\"]\n",
    "print(distance)"
   ]
  },
  {
   "cell_type": "code",
   "execution_count": 40,
   "metadata": {},
   "outputs": [],
   "source": [
    "def create_initial_population(population_size=10):\n",
    "    population = []\n",
    "    \n",
    "    orders = df_orders.to_dict(orient=\"records\")\n",
    "    vehicles = df_vehicles.to_dict(orient=\"records\")\n",
    "    almacen = \"Almacén\"\n",
    "    \n",
    "    for _ in range(population_size):\n",
    "        individual = []\n",
    "        remaining_orders = orders.copy()  # Clonar los pedidos restantes\n",
    "        \n",
    "        for vehicle in vehicles:\n",
    "            route = [almacen]  # Cada ruta comienza en el almacén\n",
    "            capacity_left = vehicle[\"capacidad_kg\"]\n",
    "            autonomy_left = vehicle[\"autonomia_km\"]\n",
    "            \n",
    "            while remaining_orders:\n",
    "                order = random.choice(remaining_orders)\n",
    "\n",
    "                if order[\"order_demand\"] <= capacity_left:\n",
    "                    current_client = route[len(route) - 1]\n",
    "                    next_client = order[\"cliente\"]\n",
    "                    distance = df_distances_km.at[current_client, next_client]\n",
    "\n",
    "                    if distance <= autonomy_left and distance != 0:\n",
    "                        route.append(next_client)\n",
    "                        capacity_left -= order[\"order_demand\"]\n",
    "                        autonomy_left -= distance\n",
    "                        remaining_orders.remove(order)\n",
    "                    else:\n",
    "                        break\n",
    "                else:\n",
    "                    break\n",
    "            \n",
    "            route.append(almacen)\n",
    "            individual.append(route)\n",
    "        \n",
    "        population.append(individual)\n",
    "    \n",
    "    return population"
   ]
  },
  {
   "cell_type": "code",
   "execution_count": 68,
   "metadata": {},
   "outputs": [
    {
     "name": "stdout",
     "output_type": "stream",
     "text": [
      "Ruta: ['Almacén', 'Cliente_19', 'Cliente_9', 'Almacén']\n",
      "Ruta: ['Almacén', 'Cliente_5', 'Cliente_15', 'Cliente_1', 'Cliente_17', 'Almacén']\n",
      "Ruta: ['Almacén', 'Cliente_4', 'Cliente_6', 'Cliente_20', 'Cliente_16', 'Cliente_18', 'Almacén']\n",
      "Ruta: ['Almacén', 'Cliente_3', 'Cliente_10', 'Cliente_2', 'Almacén']\n",
      "Ruta: ['Almacén', 'Cliente_11', 'Cliente_13', 'Cliente_8', 'Cliente_14', 'Cliente_12', 'Cliente_7', 'Almacén']\n",
      "Ruta: ['Almacén', 'Almacén']\n",
      "Ruta: ['Almacén', 'Cliente_1', 'Cliente_5', 'Almacén']\n",
      "Ruta: ['Almacén', 'Cliente_15', 'Cliente_9', 'Cliente_17', 'Cliente_16', 'Almacén']\n",
      "Ruta: ['Almacén', 'Cliente_10', 'Cliente_3', 'Cliente_14', 'Cliente_4', 'Cliente_11', 'Almacén']\n",
      "Ruta: ['Almacén', 'Cliente_6', 'Cliente_2', 'Cliente_7', 'Almacén']\n",
      "Ruta: ['Almacén', 'Cliente_20', 'Cliente_19', 'Cliente_12', 'Cliente_8', 'Cliente_13', 'Cliente_18', 'Almacén']\n",
      "Ruta: ['Almacén', 'Almacén']\n",
      "Ruta: ['Almacén', 'Cliente_10', 'Cliente_1', 'Almacén']\n",
      "Ruta: ['Almacén', 'Cliente_18', 'Cliente_3', 'Cliente_12', 'Cliente_17', 'Almacén']\n",
      "Ruta: ['Almacén', 'Cliente_19', 'Cliente_8', 'Cliente_4', 'Cliente_16', 'Cliente_7', 'Almacén']\n",
      "Ruta: ['Almacén', 'Cliente_20', 'Cliente_5', 'Almacén']\n",
      "Ruta: ['Almacén', 'Cliente_9', 'Cliente_15', 'Cliente_6', 'Cliente_11', 'Cliente_2', 'Cliente_13', 'Cliente_14', 'Almacén']\n",
      "Ruta: ['Almacén', 'Almacén']\n",
      "Ruta: ['Almacén', 'Cliente_17', 'Cliente_8', 'Almacén']\n",
      "Ruta: ['Almacén', 'Cliente_1', 'Cliente_4', 'Cliente_12', 'Cliente_10', 'Almacén']\n",
      "Ruta: ['Almacén', 'Cliente_20', 'Cliente_11', 'Cliente_3', 'Almacén']\n",
      "Ruta: ['Almacén', 'Cliente_9', 'Cliente_18', 'Cliente_15', 'Almacén']\n",
      "Ruta: ['Almacén', 'Cliente_14', 'Cliente_6', 'Cliente_2', 'Cliente_13', 'Cliente_16', 'Cliente_5', 'Cliente_19', 'Cliente_7', 'Almacén']\n",
      "Ruta: ['Almacén', 'Almacén']\n",
      "Ruta: ['Almacén', 'Cliente_10', 'Cliente_9', 'Almacén']\n",
      "Ruta: ['Almacén', 'Cliente_2', 'Cliente_19', 'Cliente_8', 'Cliente_4', 'Almacén']\n",
      "Ruta: ['Almacén', 'Cliente_15', 'Cliente_5', 'Cliente_17', 'Cliente_11', 'Cliente_20', 'Almacén']\n",
      "Ruta: ['Almacén', 'Cliente_1', 'Cliente_6', 'Almacén']\n",
      "Ruta: ['Almacén', 'Cliente_3', 'Cliente_18', 'Cliente_7', 'Almacén']\n",
      "Ruta: ['Almacén', 'Cliente_14', 'Cliente_12', 'Cliente_13', 'Almacén']\n",
      "Ruta: ['Almacén', 'Cliente_20', 'Cliente_6', 'Almacén']\n",
      "Ruta: ['Almacén', 'Cliente_16', 'Cliente_2', 'Cliente_12', 'Cliente_5', 'Almacén']\n",
      "Ruta: ['Almacén', 'Cliente_8', 'Cliente_18', 'Cliente_10', 'Cliente_19', 'Cliente_14', 'Almacén']\n",
      "Ruta: ['Almacén', 'Cliente_3', 'Cliente_4', 'Cliente_11', 'Almacén']\n",
      "Ruta: ['Almacén', 'Cliente_15', 'Cliente_13', 'Cliente_17', 'Cliente_1', 'Cliente_7', 'Cliente_9', 'Almacén']\n",
      "Ruta: ['Almacén', 'Almacén']\n",
      "Ruta: ['Almacén', 'Cliente_15', 'Cliente_4', 'Almacén']\n",
      "Ruta: ['Almacén', 'Cliente_20', 'Cliente_1', 'Cliente_16', 'Cliente_13', 'Almacén']\n",
      "Ruta: ['Almacén', 'Cliente_19', 'Cliente_12', 'Cliente_7', 'Cliente_17', 'Cliente_10', 'Almacén']\n",
      "Ruta: ['Almacén', 'Cliente_2', 'Cliente_5', 'Almacén']\n",
      "Ruta: ['Almacén', 'Cliente_18', 'Cliente_3', 'Cliente_8', 'Cliente_14', 'Cliente_6', 'Cliente_11', 'Cliente_9', 'Almacén']\n",
      "Ruta: ['Almacén', 'Almacén']\n",
      "Ruta: ['Almacén', 'Cliente_11', 'Cliente_19', 'Almacén']\n",
      "Ruta: ['Almacén', 'Cliente_3', 'Cliente_14', 'Cliente_1', 'Cliente_8', 'Almacén']\n",
      "Ruta: ['Almacén', 'Cliente_18', 'Cliente_4', 'Cliente_12', 'Cliente_5', 'Cliente_10', 'Almacén']\n",
      "Ruta: ['Almacén', 'Cliente_16', 'Cliente_2', 'Cliente_9', 'Almacén']\n",
      "Ruta: ['Almacén', 'Cliente_17', 'Cliente_13', 'Cliente_6', 'Cliente_7', 'Almacén']\n",
      "Ruta: ['Almacén', 'Cliente_15', 'Cliente_20', 'Almacén']\n",
      "Ruta: ['Almacén', 'Cliente_6', 'Cliente_16', 'Almacén']\n",
      "Ruta: ['Almacén', 'Cliente_13', 'Almacén']\n",
      "Ruta: ['Almacén', 'Cliente_14', 'Cliente_3', 'Cliente_8', 'Cliente_1', 'Cliente_18', 'Almacén']\n",
      "Ruta: ['Almacén', 'Cliente_19', 'Cliente_2', 'Cliente_12', 'Almacén']\n",
      "Ruta: ['Almacén', 'Cliente_10', 'Cliente_5', 'Almacén']\n",
      "Ruta: ['Almacén', 'Cliente_20', 'Cliente_4', 'Cliente_9', 'Almacén']\n",
      "Ruta: ['Almacén', 'Cliente_5', 'Almacén']\n",
      "Ruta: ['Almacén', 'Cliente_20', 'Cliente_12', 'Cliente_16', 'Almacén']\n",
      "Ruta: ['Almacén', 'Cliente_4', 'Cliente_1', 'Cliente_15', 'Cliente_6', 'Cliente_17', 'Almacén']\n",
      "Ruta: ['Almacén', 'Cliente_19', 'Cliente_7', 'Almacén']\n",
      "Ruta: ['Almacén', 'Cliente_18', 'Cliente_2', 'Cliente_10', 'Cliente_3', 'Cliente_11', 'Cliente_14', 'Cliente_9', 'Cliente_13', 'Cliente_8', 'Almacén']\n",
      "Ruta: ['Almacén', 'Almacén']\n"
     ]
    }
   ],
   "source": [
    "# Generar la población inicial\n",
    "population = create_initial_population(10)\n",
    "for individual in population:\n",
    "    for route in individual:\n",
    "        print(f'Ruta: {route}')"
   ]
  },
  {
   "cell_type": "code",
   "execution_count": 66,
   "metadata": {},
   "outputs": [],
   "source": [
    "def evaluate_population(population):\n",
    "    fitness_scores = []\n",
    "    \n",
    "    # Crear un diccionario de los pedidos por cliente para una búsqueda más eficiente\n",
    "    orders_dict = df_orders.set_index('cliente')['order_demand'].to_dict()\n",
    "\n",
    "    for individual in population:\n",
    "        total_distance = 0\n",
    "        total_penalty = 0  # Penalización si hay algún error (capacidad, autonomía)\n",
    "        \n",
    "        for route, vehicle in zip(individual, df_vehicles.to_dict(orient=\"records\")):\n",
    "            route_distance = 0\n",
    "            capacity_left = vehicle[\"capacidad_kg\"]\n",
    "            autonomy_left = vehicle[\"autonomia_km\"]\n",
    "            \n",
    "            # Verifica la distancia y la capacidad/autonomía en cada ruta\n",
    "            current_location = \"Almacén\"\n",
    "            \n",
    "            for client in route[1:-1]:  # Saltar el almacén al inicio y final\n",
    "                distance = df_distances_km.at[current_location, client]\n",
    "                route_distance += distance\n",
    "                autonomy_left -= distance  # Reducir autonomía con la distancia recorrida\n",
    "                current_location = client\n",
    "                \n",
    "                # Obtener la demanda del pedido del cliente actual de la lista de pedidos\n",
    "                order_demand = orders_dict.get(client, 0)  # Si no hay pedido, asignamos 0\n",
    "\n",
    "                # Verificar si la autonomía o capacidad se exceden\n",
    "                if autonomy_left < 0:\n",
    "                    total_penalty += 1000  # Penalización por exceder la autonomía\n",
    "                \n",
    "                capacity_left -= order_demand  # Reducir la capacidad disponible\n",
    "                if capacity_left < 0:\n",
    "                    total_penalty += 1000  # Penalización por exceder la capacidad\n",
    "\n",
    "            # Añadir la distancia de regreso al almacén\n",
    "            route_distance += df_distances_km.at[current_location, \"Almacén\"]\n",
    "            total_distance += route_distance\n",
    "        \n",
    "        # Al final de la ruta, guardamos la aptitud de esta solución\n",
    "        fitness_scores.append(total_distance + total_penalty)\n",
    "    \n",
    "    return fitness_scores\n"
   ]
  },
  {
   "cell_type": "code",
   "execution_count": 71,
   "metadata": {},
   "outputs": [
    {
     "data": {
      "text/plain": [
       "[np.float64(274.2727),\n",
       " np.float64(235.916),\n",
       " np.float64(253.9374),\n",
       " np.float64(244.96629999999996),\n",
       " np.float64(224.7081),\n",
       " np.float64(250.4787),\n",
       " np.float64(262.0616),\n",
       " np.float64(302.22029999999995),\n",
       " np.float64(210.64849999999996),\n",
       " np.float64(254.5)]"
      ]
     },
     "execution_count": 71,
     "metadata": {},
     "output_type": "execute_result"
    }
   ],
   "source": [
    "fitness_scores = evaluate_population(population=population)\n",
    "fitness_scores"
   ]
  },
  {
   "cell_type": "code",
   "execution_count": null,
   "metadata": {},
   "outputs": [],
   "source": []
  }
 ],
 "metadata": {
  "kernelspec": {
   "display_name": "Python 3",
   "language": "python",
   "name": "python3"
  },
  "language_info": {
   "codemirror_mode": {
    "name": "ipython",
    "version": 3
   },
   "file_extension": ".py",
   "mimetype": "text/x-python",
   "name": "python",
   "nbconvert_exporter": "python",
   "pygments_lexer": "ipython3",
   "version": "3.13.0"
  }
 },
 "nbformat": 4,
 "nbformat_minor": 2
}
