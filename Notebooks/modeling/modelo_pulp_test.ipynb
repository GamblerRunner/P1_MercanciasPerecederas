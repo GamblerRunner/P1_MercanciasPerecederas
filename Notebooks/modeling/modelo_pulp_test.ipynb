{
 "cells": [
  {
   "cell_type": "code",
   "execution_count": 1,
   "metadata": {},
   "outputs": [],
   "source": [
    "from pulp import LpProblem, LpVariable, lpSum, LpMinimize\n",
    "import pandas as pd"
   ]
  },
  {
   "cell_type": "code",
   "execution_count": 2,
   "metadata": {},
   "outputs": [],
   "source": [
    "df_vehiculos = pd.read_excel('../../Datos_P1/df_vehicle.xlsx')\n",
    "df_clientes = pd.read_excel('../../Datos_P1/df_orders.xlsx')\n",
    "df_distancias = pd.read_excel('../../Datos_P1/df_distance_km.xlsx')\n",
    "\n",
    "df_distancias.index = df_distancias.columns"
   ]
  },
  {
   "cell_type": "code",
   "execution_count": 3,
   "metadata": {},
   "outputs": [],
   "source": [
    "# Preparación datos para PuLP\n",
    "\n",
    "capacidades = dict(zip(df_vehiculos[\"vehiculo_id\"], df_vehiculos[\"capacidad_kg\"]))\n",
    "costos = dict(zip(df_vehiculos[\"vehiculo_id\"], df_vehiculos[\"costo_km\"]))\n",
    "autonomias = dict(zip(df_vehiculos[\"vehiculo_id\"], df_vehiculos[\"autonomia_km\"]))\n",
    "\n",
    "pedidos = dict(zip(df_clientes[\"cliente\"], df_clientes[\"order_demand\"]))\n",
    "#pedidos[\"Almacén\"] = 0\n",
    "\n",
    "distancias = df_vehiculos.stack().to_dict()  # Convierte a un diccionario (i, j): distancia\n",
    "\n",
    "clientes = df_clientes[\"cliente\"].tolist() #+ [\"Almacén\"]\n",
    "vehiculos = df_vehiculos[\"vehiculo_id\"].tolist()"
   ]
  },
  {
   "cell_type": "code",
   "execution_count": 4,
   "metadata": {},
   "outputs": [
    {
     "name": "stdout",
     "output_type": "stream",
     "text": [
      "Vehículo 1:\n",
      "  Cliente_1\n",
      "  Cliente_4\n",
      "  Cliente_15\n",
      "  Cliente_16\n",
      "Vehículo 2:\n",
      "  Cliente_7\n",
      "Vehículo 3:\n",
      "  Cliente_2\n",
      "  Cliente_12\n",
      "  Cliente_18\n",
      "Vehículo 4:\n",
      "  Cliente_3\n",
      "  Cliente_5\n",
      "Vehículo 5:\n",
      "  Cliente_6\n",
      "  Cliente_8\n",
      "  Cliente_9\n",
      "  Cliente_10\n",
      "  Cliente_11\n",
      "  Cliente_17\n",
      "  Cliente_19\n",
      "Vehículo 6:\n",
      "  Cliente_13\n",
      "  Cliente_14\n",
      "  Cliente_20\n"
     ]
    }
   ],
   "source": [
    "# Crear el problema\n",
    "problema = LpProblem(\"Ruteo_de_Vehiculos\", LpMinimize)\n",
    "\n",
    "\n",
    "# Variables de decisión\n",
    "x = LpVariable.dicts(\"x\", [(i, j, k) for i in clientes for j in clientes for k in vehiculos], cat=\"Binary\")\n",
    "q = LpVariable.dicts(\"q\", [(i, k) for i in clientes for k in vehiculos], lowBound=0)\n",
    "\n",
    "# Función objetivo: minimizar costo total\n",
    "problema += lpSum(\n",
    "    x[i, j, k] * costos[k] * distancias.get((i, j), 0)\n",
    "    for i in clientes for j in clientes for k in vehiculos\n",
    ")\n",
    "\n",
    "# Restricciones\n",
    "# Cada cliente debe ser atendido una vez\n",
    "for i in clientes:\n",
    "    problema += lpSum(x[i, j, k] for j in clientes for k in vehiculos) == 1\n",
    "\n",
    "# Respetar la capacidad de los vehículos\n",
    "for k in vehiculos:\n",
    "    problema += lpSum(q[i, k] for i in clientes) <= capacidades[k]\n",
    "\n",
    "# Satisfacer la demanda de los clientes\n",
    "for i in clientes:\n",
    "    problema += lpSum(q[i, k] for k in vehiculos) == pedidos[i]\n",
    "\n",
    "# Autonomía de los vehículos\n",
    "for k in vehiculos:\n",
    "    problema += lpSum(x[i, j, k] * distancias.get((i, j), 0) for i in clientes for j in clientes) <= autonomias[k]\n",
    "\n",
    "# Flujo de vehículos: entrada = salida\n",
    "for i in clientes:\n",
    "    for k in vehiculos:\n",
    "        problema += lpSum(x[i, j, k] for j in clientes) == lpSum(x[j, i, k] for j in clientes)\n",
    "\n",
    "# Resolver el problema\n",
    "problema.solve()\n",
    "\n",
    "# Resultados\n",
    "for k in vehiculos:\n",
    "    print(f\"Vehículo {k}:\")\n",
    "    for i in clientes:\n",
    "        for j in clientes:\n",
    "            if x[i, j, k].value() == 1:\n",
    "                print(f\"  {i}\")"
   ]
  },
  {
   "cell_type": "code",
   "execution_count": null,
   "metadata": {},
   "outputs": [],
   "source": []
  }
 ],
 "metadata": {
  "kernelspec": {
   "display_name": "Python 3",
   "language": "python",
   "name": "python3"
  },
  "language_info": {
   "codemirror_mode": {
    "name": "ipython",
    "version": 3
   },
   "file_extension": ".py",
   "mimetype": "text/x-python",
   "name": "python",
   "nbconvert_exporter": "python",
   "pygments_lexer": "ipython3",
   "version": "3.13.1"
  }
 },
 "nbformat": 4,
 "nbformat_minor": 2
}
